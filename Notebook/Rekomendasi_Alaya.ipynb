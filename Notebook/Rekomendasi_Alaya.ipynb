{
  "nbformat": 4,
  "nbformat_minor": 0,
  "metadata": {
    "colab": {
      "provenance": []
    },
    "kernelspec": {
      "name": "python3",
      "display_name": "Python 3"
    },
    "language_info": {
      "name": "python"
    }
  },
  "cells": [
    {
      "cell_type": "code",
      "execution_count": null,
      "metadata": {
        "colab": {
          "base_uri": "https://localhost:8080/"
        },
        "id": "N8KaqteqUG4b",
        "outputId": "ba8b031f-f8fd-4106-fe3a-7c46d58df43f"
      },
      "outputs": [
        {
          "output_type": "stream",
          "name": "stdout",
          "text": [
            "     lokasi  LT  LB  KT  KM  listrik  garasi_carport       harga\n",
            "68        3  62  63   3   2     2200               0   565000000\n",
            "52        3  63  61   3   2     2200               0  1040000000\n",
            "437       1  60  63   2   2     2200               0   593000000\n",
            "533       2  60  63   3   2     2200               0   598000000\n",
            "85        3  60  62   3   2     2200               1   565000000\n"
          ]
        }
      ],
      "source": [
        "import pandas as pd\n",
        "import numpy as np\n",
        "from sklearn.metrics.pairwise import cosine_similarity\n",
        "\n",
        "# Load data ke dalam DataFrame\n",
        "data = pd.read_csv('https://raw.githubusercontent.com/Peksyaji/My_Home/main/Data/Rumah%20Jabodetabek.csv', sep=';')\n",
        "\n",
        "# Preprocessing data\n",
        "# Encoder lokasi\n",
        "data['lokasi'] = data['lokasi'].map({\n",
        "    'Kota Jakarta':0,\n",
        "    'Kota Bogor':1,\n",
        "    'Kabupaten Bogor':2,\n",
        "    'Kota Depok':3,\n",
        "    'Kota Tangerang':4,\n",
        "    'Kota Bekasi':5,\n",
        "    'Kabupaten Bekasi':6\n",
        "})\n",
        "\n",
        "# Encoder garasi/carport\n",
        "data['garasi_carport'] = data['garasi_carport'].map({\n",
        "    'Ada':0,\n",
        "    'Tidak ada':1\n",
        "})\n",
        "\n",
        "# Simulasi prediksi\n",
        "df_test = pd.DataFrame(data={\n",
        "    'lokasi': [1],\n",
        "    'LT': [60],\n",
        "    'LB': [60],\n",
        "    'KT': [3],\n",
        "    'KM': [2],\n",
        "    'listrik': [2200],\n",
        "    'garasi_carport': [1]\n",
        "})\n",
        "\n",
        "# Menghitung matriks kemiripan menggunakan cosine similarity\n",
        "X = data.drop('harga', axis=1)\n",
        "similarity_matrix = cosine_similarity(df_test, X)\n",
        "\n",
        "# Fungsi untuk mendapatkan 5 rekomendasi berdasarkan rumah yang dipilih\n",
        "def get_recommendations(similarity_matrix, data, n=5):\n",
        "    rumah_indices = similarity_matrix.argsort()[0][-n:]  # Ambil indeks rumah yang paling mirip dengan input pengguna\n",
        "    recommended_rumah = data.iloc[rumah_indices]\n",
        "    return recommended_rumah\n",
        "\n",
        "# Contoh penggunaan: Mendapatkan rekomendasi rumah berdasarkan input pengguna\n",
        "rekomendasi = get_recommendations(similarity_matrix, data)\n",
        "print(rekomendasi)"
      ]
    }
  ]
}